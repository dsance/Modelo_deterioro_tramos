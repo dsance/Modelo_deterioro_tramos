{
 "cells": [
  {
   "cell_type": "markdown",
   "metadata": {
    "id": "13GWDvDAeZrD"
   },
   "source": [
    "# Validación de modelo"
   ]
  },
  {
   "cell_type": "code",
   "execution_count": 1,
   "metadata": {
    "executionInfo": {
     "elapsed": 580,
     "status": "ok",
     "timestamp": 1692841301880,
     "user": {
      "displayName": "Juan de Villeros",
      "userId": "10297202580344304481"
     },
     "user_tz": 300
    },
    "id": "7zI_Fz_x7Tro"
   },
   "outputs": [],
   "source": [
    "import pandas as pd\n",
    "import joblib\n",
    "from sklearn.metrics import classification_report, confusion_matrix\n",
    "\n",
    "import matplotlib.pyplot as plt\n",
    "import seaborn as sns\n"
   ]
  },
  {
   "cell_type": "code",
   "execution_count": 3,
   "metadata": {
    "executionInfo": {
     "elapsed": 1605,
     "status": "ok",
     "timestamp": 1692837999166,
     "user": {
      "displayName": "Juan de Villeros",
      "userId": "10297202580344304481"
     },
     "user_tz": 300
    },
    "id": "DTtJLl4R9C8C"
   },
   "outputs": [
    {
     "name": "stdout",
     "output_type": "stream",
     "text": [
      "Fecha y Hora de ejecución de módulo: 2024-10-29 17:22:20\n"
     ]
    }
   ],
   "source": [
    "# Definiciones globales y funciones de transformación\n",
    "\n",
    "%run ../Lib/pandas_options.py\n",
    "%run ../Lib/define_constantes.py\n",
    "%run ../Lib/fn_transformaciones.py"
   ]
  },
  {
   "cell_type": "code",
   "execution_count": 8,
   "metadata": {
    "colab": {
     "base_uri": "https://localhost:8080/"
    },
    "executionInfo": {
     "elapsed": 233,
     "status": "ok",
     "timestamp": 1692844670762,
     "user": {
      "displayName": "Juan de Villeros",
      "userId": "10297202580344304481"
     },
     "user_tz": 300
    },
    "id": "8vf2_zFM4xtp",
    "outputId": "52453986-dc5b-4029-9a7d-91a459907e84"
   },
   "outputs": [
    {
     "name": "stdout",
     "output_type": "stream",
     "text": [
      "<class 'pandas.core.frame.DataFrame'>\n",
      "RangeIndex: 102 entries, 146 to 247\n",
      "Data columns (total 3 columns):\n",
      " #   Column              Non-Null Count  Dtype \n",
      "---  ------              --------------  ----- \n",
      " 0   IPID                102 non-null    int64 \n",
      " 1   CALIFICACION        102 non-null    int64 \n",
      " 2   FECHA_CALIFICACION  102 non-null    object\n",
      "dtypes: int64(2), object(1)\n",
      "memory usage: 2.5+ KB\n",
      "None\n"
     ]
    }
   ],
   "source": [
    "#  Cargar archivo para validación\n",
    "\n",
    "archivo_validacion = f'{DIRECTORIO_DATOS_VALIDACION}/DATOSVALIDACION.csv'\n",
    "\n",
    "df_cctv_validacion = pd.read_csv(archivo_validacion, usecols=['Ipid', 'GradoCalificacionPrincipal', 'Fecha'])\n",
    "df_cctv_validacion.rename(\n",
    "    columns={'Ipid': 'IPID', 'GradoCalificacionPrincipal': 'CALIFICACION', 'Fecha': 'FECHA_CALIFICACION'},\n",
    "    inplace=True\n",
    ")\n",
    "# Filtrar datos de validacion\n",
    "df_cctv_validacion = df_cctv_validacion.tail(102)\n",
    "\n",
    "print(df_cctv_validacion.info())"
   ]
  },
  {
   "cell_type": "code",
   "execution_count": 9,
   "metadata": {
    "colab": {
     "base_uri": "https://localhost:8080/"
    },
    "executionInfo": {
     "elapsed": 5571,
     "status": "ok",
     "timestamp": 1692839786386,
     "user": {
      "displayName": "Juan de Villeros",
      "userId": "10297202580344304481"
     },
     "user_tz": 300
    },
    "id": "vqljvqxGBrXj",
    "outputId": "8d4811bb-ff32-4c98-fb97-ded3103683be"
   },
   "outputs": [
    {
     "name": "stdout",
     "output_type": "stream",
     "text": [
      "<class 'pandas.core.frame.DataFrame'>\n",
      "RangeIndex: 171197 entries, 0 to 171196\n",
      "Data columns (total 46 columns):\n",
      " #   Column                       Non-Null Count   Dtype  \n",
      "---  ------                       --------------   -----  \n",
      " 0   G3E_FID                      171197 non-null  int64  \n",
      " 1   DIAMETRO                     171197 non-null  int64  \n",
      " 2   CAMARA_CAIDA                 171197 non-null  object \n",
      " 3   CONEXIONES_ERRADAS           171132 non-null  object \n",
      " 4   MATERIAL                     171197 non-null  object \n",
      " 5   TUBERIA_ELEVADA              171197 non-null  object \n",
      " 6   VIDA_UTIL                    166700 non-null  float64\n",
      " 7   FABRICANTE                   171151 non-null  object \n",
      " 8   TIPO_CIMENTACION             69415 non-null   object \n",
      " 9   TIPO_SUELO                   57985 non-null   object \n",
      " 10  TIPO_RED                     171197 non-null  object \n",
      " 11  PROF_BATEA_ENTRADA           170837 non-null  float64\n",
      " 12  PROF_BATEA_SALIDA            170733 non-null  float64\n",
      " 13  COTA_BATEA_ABAJO             170102 non-null  float64\n",
      " 14  COTA_BATEA_ARRIBA            170136 non-null  float64\n",
      " 15  IPID                         171197 non-null  int64  \n",
      " 16  ESTADO                       171197 non-null  object \n",
      " 17  GRUPO                        171197 non-null  object \n",
      " 18  PROPIETARIO                  171189 non-null  object \n",
      " 19  OPERADOR                     171197 non-null  object \n",
      " 20  EMPRESA                      171197 non-null  object \n",
      " 21  LONGITUD                     171197 non-null  float64\n",
      " 22  ARRANQUE                     171197 non-null  object \n",
      " 23  TIPO_AGUA                    171197 non-null  object \n",
      " 24  CUENCA                       170359 non-null  object \n",
      " 25  CONDICION_MANTENIMIENTO      169501 non-null  object \n",
      " 26  DIAMETRO_INTERNO             154722 non-null  float64\n",
      " 27  MATERIAL_REHAB               909 non-null     object \n",
      " 28  NOMBRE_COLECTOR_INTERCEPTOR  14441 non-null   object \n",
      " 29  PENDIENTE                    169809 non-null  float64\n",
      " 30  PROFUNDIDAD_CAM_CAIDA        121991 non-null  float64\n",
      " 31  CAUDAL_TUBO_LLENO            138018 non-null  float64\n",
      " 32  CAUDAL_DISENO                147479 non-null  float64\n",
      " 33  COEFICIENTE_MANNING          158128 non-null  float64\n",
      " 34  OBSERVACIONES                88687 non-null   object \n",
      " 35  UBICACION                    8363 non-null    object \n",
      " 36  FECHA_INSTALACION            171158 non-null  object \n",
      " 37  COOR_LAT                     171195 non-null  float64\n",
      " 38  COOR_LON                     171195 non-null  float64\n",
      " 39  ESTADO_OPERATIVO             171197 non-null  object \n",
      " 40  PAIS                         171197 non-null  object \n",
      " 41  DEPARTAMENTO                 171197 non-null  object \n",
      " 42  MUNICIPIO                    171197 non-null  object \n",
      " 43  CODIGO_AREA_TRABAJO          171194 non-null  object \n",
      " 44  ZONA                         171193 non-null  object \n",
      " 45  CUENCA_HIDRAULICA            169376 non-null  object \n",
      "dtypes: float64(14), int64(3), object(29)\n",
      "memory usage: 60.1+ MB\n",
      "None\n"
     ]
    }
   ],
   "source": [
    "# Cargar archivo de tramos\n",
    "archivo_tramos = f'{DIRECTORIO_DATOS_CRUDOS}/DATOS_TRAMOS.csv'\n",
    "df_tramos = pd.read_csv(archivo_tramos, low_memory=False)\n",
    "\n",
    "print(df_tramos.info())"
   ]
  },
  {
   "cell_type": "code",
   "execution_count": 10,
   "metadata": {
    "colab": {
     "base_uri": "https://localhost:8080/"
    },
    "executionInfo": {
     "elapsed": 230,
     "status": "ok",
     "timestamp": 1692844678462,
     "user": {
      "displayName": "Juan de Villeros",
      "userId": "10297202580344304481"
     },
     "user_tz": 300
    },
    "id": "lbF5lJ2nH_vO",
    "outputId": "ba98b207-51d6-4e90-ac61-e00bb55c7fe2"
   },
   "outputs": [
    {
     "name": "stdout",
     "output_type": "stream",
     "text": [
      "<class 'pandas.core.frame.DataFrame'>\n",
      "RangeIndex: 99 entries, 0 to 98\n",
      "Data columns (total 48 columns):\n",
      " #   Column                       Non-Null Count  Dtype  \n",
      "---  ------                       --------------  -----  \n",
      " 0   G3E_FID                      99 non-null     int64  \n",
      " 1   DIAMETRO                     99 non-null     int64  \n",
      " 2   CAMARA_CAIDA                 99 non-null     object \n",
      " 3   CONEXIONES_ERRADAS           99 non-null     object \n",
      " 4   MATERIAL                     99 non-null     object \n",
      " 5   TUBERIA_ELEVADA              99 non-null     object \n",
      " 6   VIDA_UTIL                    97 non-null     float64\n",
      " 7   FABRICANTE                   98 non-null     object \n",
      " 8   TIPO_CIMENTACION             22 non-null     object \n",
      " 9   TIPO_SUELO                   19 non-null     object \n",
      " 10  TIPO_RED                     99 non-null     object \n",
      " 11  PROF_BATEA_ENTRADA           99 non-null     float64\n",
      " 12  PROF_BATEA_SALIDA            97 non-null     float64\n",
      " 13  COTA_BATEA_ABAJO             98 non-null     float64\n",
      " 14  COTA_BATEA_ARRIBA            97 non-null     float64\n",
      " 15  IPID                         99 non-null     int64  \n",
      " 16  ESTADO                       99 non-null     object \n",
      " 17  GRUPO                        99 non-null     object \n",
      " 18  PROPIETARIO                  99 non-null     object \n",
      " 19  OPERADOR                     99 non-null     object \n",
      " 20  EMPRESA                      99 non-null     object \n",
      " 21  LONGITUD                     99 non-null     float64\n",
      " 22  ARRANQUE                     99 non-null     object \n",
      " 23  TIPO_AGUA                    99 non-null     object \n",
      " 24  CUENCA                       98 non-null     object \n",
      " 25  CONDICION_MANTENIMIENTO      99 non-null     object \n",
      " 26  DIAMETRO_INTERNO             91 non-null     float64\n",
      " 27  MATERIAL_REHAB               1 non-null      object \n",
      " 28  NOMBRE_COLECTOR_INTERCEPTOR  11 non-null     object \n",
      " 29  PENDIENTE                    98 non-null     float64\n",
      " 30  PROFUNDIDAD_CAM_CAIDA        53 non-null     float64\n",
      " 31  CAUDAL_TUBO_LLENO            77 non-null     float64\n",
      " 32  CAUDAL_DISENO                89 non-null     float64\n",
      " 33  COEFICIENTE_MANNING          95 non-null     float64\n",
      " 34  OBSERVACIONES                51 non-null     object \n",
      " 35  UBICACION                    3 non-null      object \n",
      " 36  FECHA_INSTALACION            99 non-null     object \n",
      " 37  COOR_LAT                     99 non-null     float64\n",
      " 38  COOR_LON                     99 non-null     float64\n",
      " 39  ESTADO_OPERATIVO             99 non-null     object \n",
      " 40  PAIS                         99 non-null     object \n",
      " 41  DEPARTAMENTO                 99 non-null     object \n",
      " 42  MUNICIPIO                    99 non-null     object \n",
      " 43  CODIGO_AREA_TRABAJO          99 non-null     object \n",
      " 44  ZONA                         99 non-null     object \n",
      " 45  CUENCA_HIDRAULICA            98 non-null     object \n",
      " 46  CALIFICACION                 99 non-null     int64  \n",
      " 47  FECHA_CALIFICACION           99 non-null     object \n",
      "dtypes: float64(14), int64(4), object(30)\n",
      "memory usage: 37.2+ KB\n",
      "None\n"
     ]
    }
   ],
   "source": [
    "# Consolidar tramos de validacion\n",
    "\n",
    "df_tramos_validacion = df_tramos.merge(df_cctv_validacion, on='IPID')\n",
    "print(df_tramos_validacion.info())"
   ]
  },
  {
   "cell_type": "code",
   "execution_count": 11,
   "metadata": {
    "colab": {
     "base_uri": "https://localhost:8080/"
    },
    "executionInfo": {
     "elapsed": 229,
     "status": "ok",
     "timestamp": 1692844685294,
     "user": {
      "displayName": "Juan de Villeros",
      "userId": "10297202580344304481"
     },
     "user_tz": 300
    },
    "id": "WPUMc7gFJN9L",
    "outputId": "ad5c05cf-4fbb-48be-f31e-69fd81838655"
   },
   "outputs": [
    {
     "name": "stdout",
     "output_type": "stream",
     "text": [
      "Aplicando transformación: Depurar datos nulos         ... Terminada.\n",
      "Aplicando transformación: Convertir tipo de datos     ... Terminada.\n",
      "Aplicando transformación: Validar rango de datos      ... Terminada.\n",
      "Aplicando transformación: Unificar unidades a metros  ... Terminada.\n",
      "Aplicando transformación: Reasignar arranque          ... Terminada.\n",
      "Aplicando transformación: Reasignar tipo de agua      ... Terminada.\n",
      "Aplicando transformación: Reasignar materiales        ... Terminada.\n",
      "Aplicando transformación: Reasignar fabricantes       ... Terminada.\n",
      "Aplicando transformación: Reasignar zonas             ... Terminada.\n",
      "Aplicando transformación: Reasignar municipios        ... Terminada.\n",
      "Aplicando transformación: Reasignar estados           ... Terminada.\n",
      "Aplicando transformación: Agregar edad de tramos      ... Terminada.\n",
      "Aplicando transformación: Aregar área de tramos       ... Terminada.\n",
      "Aplicando transformación: Recalcular pendientes       ... Terminada.\n",
      "Aplicando transformación: Binarizar calificacion      ... Terminada.\n",
      "Aplicando transformación: Seleccionar columnas útiles ... Terminada.\n"
     ]
    }
   ],
   "source": [
    "# Aplicar secuencia de transformaciones\n",
    "df_validacion_preprocesados = tx_aplicar_transformaciones(df_tramos_validacion)"
   ]
  },
  {
   "cell_type": "code",
   "execution_count": 12,
   "metadata": {
    "colab": {
     "base_uri": "https://localhost:8080/"
    },
    "executionInfo": {
     "elapsed": 238,
     "status": "ok",
     "timestamp": 1692844688528,
     "user": {
      "displayName": "Juan de Villeros",
      "userId": "10297202580344304481"
     },
     "user_tz": 300
    },
    "id": "nSXIo8_PJjtd",
    "outputId": "ba6e298e-c2a0-4f85-e4dd-2c5c1710cdae"
   },
   "outputs": [
    {
     "name": "stdout",
     "output_type": "stream",
     "text": [
      "<class 'pandas.core.frame.DataFrame'>\n",
      "Index: 82 entries, 0 to 98\n",
      "Data columns (total 15 columns):\n",
      " #   Column              Non-Null Count  Dtype  \n",
      "---  ------              --------------  -----  \n",
      " 0   DETERIORADO         82 non-null     bool   \n",
      " 1   EDAD                82 non-null     float64\n",
      " 2   DIAMETRO            82 non-null     float64\n",
      " 3   LONGITUD            82 non-null     float64\n",
      " 4   AREA                82 non-null     float64\n",
      " 5   PROF_BATEA_ENTRADA  82 non-null     float64\n",
      " 6   PROF_BATEA_SALIDA   82 non-null     float64\n",
      " 7   PENDIENTE           82 non-null     float64\n",
      " 8   TIPO_AGUA           82 non-null     object \n",
      " 9   MATERIAL            82 non-null     object \n",
      " 10  FABRICANTE          82 non-null     object \n",
      " 11  ARRANQUE            82 non-null     bool   \n",
      " 12  ZONA_SUR            82 non-null     bool   \n",
      " 13  MUNICIPIO_MEDELLIN  82 non-null     bool   \n",
      " 14  ESTADO_OPERACION    82 non-null     bool   \n",
      "dtypes: bool(5), float64(7), object(3)\n",
      "memory usage: 7.4+ KB\n",
      "None\n",
      "--------------------------------------------------------------------------------\n",
      "       DETERIORADO       EDAD   DIAMETRO    LONGITUD        AREA  PROF_BATEA_ENTRADA  PROF_BATEA_SALIDA  PENDIENTE            TIPO_AGUA         MATERIAL             FABRICANTE ARRANQUE ZONA_SUR MUNICIPIO_MEDELLIN ESTADO_OPERACION\n",
      "count           82  82.000000  82.000000   82.000000   82.000000           82.000000          82.000000  82.000000                   82               82                     82       82       82                 82               82\n",
      "unique           2        NaN        NaN         NaN         NaN                 NaN                NaN        NaN                    3                3                      3        2        2                  2                2\n",
      "top           True        NaN        NaN         NaN         NaN                 NaN                NaN        NaN  LLUVIAS Y DESCARGAS  CONCRETO SIMPLE  INDUSTRIAS DIQUE S.A.    False     True              False             True\n",
      "freq            45        NaN        NaN         NaN         NaN                 NaN                NaN        NaN                   46               56                     53       72       70                 51               80\n",
      "mean           NaN  33.569056   0.514634   32.605000   47.746758            2.327927           1.879756   0.018849                  NaN              NaN                    NaN      NaN      NaN                NaN              NaN\n",
      "std            NaN  17.781543   0.272221   23.304191   40.978758            1.254745           1.374775   0.093554                  NaN              NaN                    NaN      NaN      NaN                NaN              NaN\n",
      "min            NaN   4.928131   0.200000    1.620000    1.709026            0.000000           0.000000  -0.330882                  NaN              NaN                    NaN      NaN      NaN                NaN              NaN\n",
      "25%            NaN  20.796715   0.300000   15.247500   21.302354            1.620000           0.980000  -0.003158                  NaN              NaN                    NaN      NaN      NaN                NaN              NaN\n",
      "50%            NaN  28.997947   0.400000   23.770000   38.870926            2.055000           1.825000   0.003521                  NaN              NaN                    NaN      NaN      NaN                NaN              NaN\n",
      "75%            NaN  53.396304   0.600000   48.312500   64.088490            3.100000           2.655000   0.040730                  NaN              NaN                    NaN      NaN      NaN                NaN              NaN\n",
      "max            NaN  63.474333   1.350000  109.230000  279.633162            5.950000           4.790000   0.595000                  NaN              NaN                    NaN      NaN      NaN                NaN              NaN\n",
      "--------------------------------------------------------------------------------\n",
      "   DETERIORADO       EDAD  DIAMETRO  LONGITUD        AREA  PROF_BATEA_ENTRADA  PROF_BATEA_SALIDA  PENDIENTE            TIPO_AGUA                    MATERIAL             FABRICANTE  ARRANQUE  ZONA_SUR  MUNICIPIO_MEDELLIN  ESTADO_OPERACION\n",
      "0        False  26.899384     0.600     10.14   19.113450                3.60               3.42   0.017751  LLUVIAS Y DESCARGAS             CONCRETO SIMPLE                  OTROS     False      True               False              True\n",
      "1        False  23.252567     0.400     74.16   93.192204                2.06               2.00   0.000809           COMBINADAS  CONCRETO REFORZADO Y OTROS                  OTROS     False      True               False              True\n",
      "2        False  23.397673     0.375     28.78   33.905639                2.06               2.49  -0.014941           COMBINADAS  CONCRETO REFORZADO Y OTROS                  OTROS     False      True               False              True\n",
      "3        False  23.252567     0.250     16.47   12.935508                1.05               1.82  -0.046752  LLUVIAS Y DESCARGAS  CONCRETO REFORZADO Y OTROS                  OTROS      True      True               False              True\n",
      "4        False  49.347023     1.000     50.71  159.310163                2.66               3.29  -0.012424  LLUVIAS Y DESCARGAS             CONCRETO SIMPLE  INDUSTRIAS DIQUE S.A.     False      True               False              True\n",
      "--------------------------------------------------------------------------------\n",
      "--------------------------------------------------------------------------------\n",
      "TIPO_AGUA\n",
      "TIPO_AGUA\n",
      "LLUVIAS Y DESCARGAS    46\n",
      "OTRAS                  25\n",
      "COMBINADAS             11\n",
      "Name: count, dtype: int64\n",
      "--------------------------------------------------------------------------------\n",
      "MATERIAL\n",
      "MATERIAL\n",
      "CONCRETO SIMPLE               56\n",
      "CONCRETO REFORZADO Y OTROS    24\n",
      "PVC                            2\n",
      "Name: count, dtype: int64\n",
      "--------------------------------------------------------------------------------\n",
      "FABRICANTE\n",
      "FABRICANTE\n",
      "INDUSTRIAS DIQUE S.A.       53\n",
      "OTROS                       27\n",
      "MEXICHEM COLOMBIA S.A.S.     2\n",
      "Name: count, dtype: int64\n"
     ]
    }
   ],
   "source": [
    "print(df_validacion_preprocesados.info())\n",
    "print('-'*80)\n",
    "print(df_validacion_preprocesados.describe(include='all'))\n",
    "print('-'*80)\n",
    "print(df_validacion_preprocesados.head())\n",
    "print('-'*80)\n",
    "\n",
    "columnas_categoricas = list(df_validacion_preprocesados.select_dtypes(include=['object']).columns)\n",
    "columnas_numericas = list(df_validacion_preprocesados.select_dtypes(include=['int', 'float']).columns)\n",
    "for columna in columnas_categoricas:\n",
    "    print('-' * 80)\n",
    "    print(columna)\n",
    "    print(df_validacion_preprocesados[columna].value_counts())\n"
   ]
  },
  {
   "cell_type": "code",
   "execution_count": 13,
   "metadata": {
    "colab": {
     "base_uri": "https://localhost:8080/"
    },
    "executionInfo": {
     "elapsed": 272,
     "status": "ok",
     "timestamp": 1692844697806,
     "user": {
      "displayName": "Juan de Villeros",
      "userId": "10297202580344304481"
     },
     "user_tz": 300
    },
    "id": "0RbSf8yyK-Uj",
    "outputId": "3794488b-e5c1-4ec9-d630-27c54754c6a6"
   },
   "outputs": [
    {
     "name": "stdout",
     "output_type": "stream",
     "text": [
      "<class 'pandas.core.frame.DataFrame'>\n",
      "Index: 82 entries, 0 to 98\n",
      "Data columns (total 21 columns):\n",
      " #   Column                               Non-Null Count  Dtype  \n",
      "---  ------                               --------------  -----  \n",
      " 0   DETERIORADO                          82 non-null     bool   \n",
      " 1   EDAD                                 82 non-null     float64\n",
      " 2   DIAMETRO                             82 non-null     float64\n",
      " 3   LONGITUD                             82 non-null     float64\n",
      " 4   AREA                                 82 non-null     float64\n",
      " 5   PROF_BATEA_ENTRADA                   82 non-null     float64\n",
      " 6   PROF_BATEA_SALIDA                    82 non-null     float64\n",
      " 7   PENDIENTE                            82 non-null     float64\n",
      " 8   ARRANQUE                             82 non-null     bool   \n",
      " 9   ZONA_SUR                             82 non-null     bool   \n",
      " 10  MUNICIPIO_MEDELLIN                   82 non-null     bool   \n",
      " 11  ESTADO_OPERACION                     82 non-null     bool   \n",
      " 12  TIPO_AGUA_COMBINADAS                 82 non-null     bool   \n",
      " 13  TIPO_AGUA_LLUVIAS Y DESCARGAS        82 non-null     bool   \n",
      " 14  TIPO_AGUA_OTRAS                      82 non-null     bool   \n",
      " 15  MATERIAL_CONCRETO REFORZADO Y OTROS  82 non-null     bool   \n",
      " 16  MATERIAL_CONCRETO SIMPLE             82 non-null     bool   \n",
      " 17  MATERIAL_PVC                         82 non-null     bool   \n",
      " 18  FABRICANTE_INDUSTRIAS DIQUE S.A.     82 non-null     bool   \n",
      " 19  FABRICANTE_MEXICHEM COLOMBIA S.A.S.  82 non-null     bool   \n",
      " 20  FABRICANTE_OTROS                     82 non-null     bool   \n",
      "dtypes: bool(14), float64(7)\n",
      "memory usage: 6.2 KB\n",
      "None\n"
     ]
    }
   ],
   "source": [
    "df_validacion_codificados = tx_codificar(df_validacion_preprocesados)\n",
    "print(df_validacion_codificados.info())"
   ]
  },
  {
   "cell_type": "code",
   "execution_count": 14,
   "metadata": {
    "colab": {
     "base_uri": "https://localhost:8080/"
    },
    "executionInfo": {
     "elapsed": 814,
     "status": "ok",
     "timestamp": 1692840991801,
     "user": {
      "displayName": "Juan de Villeros",
      "userId": "10297202580344304481"
     },
     "user_tz": 300
    },
    "id": "ue17g5o0LYs2",
    "outputId": "6480fca1-4478-45c6-9c85-3838b5a1964d"
   },
   "outputs": [
    {
     "name": "stdout",
     "output_type": "stream",
     "text": [
      "XGBClassifier(base_score=None, booster=None, callbacks=None,\n",
      "              colsample_bylevel=None, colsample_bynode=None,\n",
      "              colsample_bytree=None, device='gpu', early_stopping_rounds=None,\n",
      "              enable_categorical=False, eval_metric='logloss',\n",
      "              feature_types=None, gamma=None, grow_policy=None,\n",
      "              importance_type=None, interaction_constraints=None,\n",
      "              learning_rate=0.01, max_bin=None, max_cat_threshold=None,\n",
      "              max_cat_to_onehot=None, max_delta_step=None, max_depth=3,\n",
      "              max_leaves=None, min_child_weight=0.05, missing=nan,\n",
      "              monotone_constraints=None, multi_strategy=None, n_estimators=None,\n",
      "              n_jobs=-1, num_parallel_tree=None, random_state=None, ...)\n"
     ]
    }
   ],
   "source": [
    "# Cargar modelo\n",
    "\n",
    "archivo_modelo = f'{DIRECTORIO_MODELOS}/modelo.joblib'\n",
    "modelo = joblib.load(archivo_modelo)\n",
    "print(modelo)"
   ]
  },
  {
   "cell_type": "code",
   "execution_count": 15,
   "metadata": {},
   "outputs": [
    {
     "name": "stdout",
     "output_type": "stream",
     "text": [
      "['EDAD', 'DIAMETRO', 'LONGITUD', 'AREA', 'PROF_BATEA_ENTRADA', 'PROF_BATEA_SALIDA', 'PENDIENTE', 'ARRANQUE', 'ZONA_SUR', 'MUNICIPIO_MEDELLIN', 'ESTADO_OPERACION', 'TIPO_AGUA_COMBINADAS', 'TIPO_AGUA_LLUVIAS Y DESCARGAS', 'TIPO_AGUA_OTRAS', 'MATERIAL_CONCRETO REFORZADO Y OTROS', 'MATERIAL_CONCRETO SIMPLE', 'MATERIAL_PVC', 'FABRICANTE_INDUSTRIAS DIQUE S.A.', 'FABRICANTE_MEXICHEM COLOMBIA S.A.S.', 'FABRICANTE_OTROS']\n"
     ]
    }
   ],
   "source": [
    "# Cargar columnas\n",
    "\n",
    "columnas_modelo = []\n",
    "archivo_columnas = f'{DIRECTORIO_MODELOS}/COLUMNAS.txt'\n",
    "\n",
    "with open(archivo_columnas, \"r\") as archivo:\n",
    "    for linea in archivo:\n",
    "        cadena = linea.strip()\n",
    "        columnas_modelo.append(cadena)\n",
    "\n",
    "print(columnas_modelo)\n"
   ]
  },
  {
   "cell_type": "code",
   "execution_count": 16,
   "metadata": {
    "executionInfo": {
     "elapsed": 215,
     "status": "ok",
     "timestamp": 1692844703100,
     "user": {
      "displayName": "Juan de Villeros",
      "userId": "10297202580344304481"
     },
     "user_tz": 300
    },
    "id": "ZTogL9JZL8qN"
   },
   "outputs": [
    {
     "name": "stdout",
     "output_type": "stream",
     "text": [
      "<class 'pandas.core.frame.DataFrame'>\n",
      "Index: 82 entries, 0 to 98\n",
      "Data columns (total 20 columns):\n",
      " #   Column                               Non-Null Count  Dtype  \n",
      "---  ------                               --------------  -----  \n",
      " 0   EDAD                                 82 non-null     float64\n",
      " 1   DIAMETRO                             82 non-null     float64\n",
      " 2   LONGITUD                             82 non-null     float64\n",
      " 3   AREA                                 82 non-null     float64\n",
      " 4   PROF_BATEA_ENTRADA                   82 non-null     float64\n",
      " 5   PROF_BATEA_SALIDA                    82 non-null     float64\n",
      " 6   PENDIENTE                            82 non-null     float64\n",
      " 7   ARRANQUE                             82 non-null     bool   \n",
      " 8   ZONA_SUR                             82 non-null     bool   \n",
      " 9   MUNICIPIO_MEDELLIN                   82 non-null     bool   \n",
      " 10  ESTADO_OPERACION                     82 non-null     bool   \n",
      " 11  TIPO_AGUA_COMBINADAS                 82 non-null     bool   \n",
      " 12  TIPO_AGUA_LLUVIAS Y DESCARGAS        82 non-null     bool   \n",
      " 13  TIPO_AGUA_OTRAS                      82 non-null     bool   \n",
      " 14  MATERIAL_CONCRETO REFORZADO Y OTROS  82 non-null     bool   \n",
      " 15  MATERIAL_CONCRETO SIMPLE             82 non-null     bool   \n",
      " 16  MATERIAL_PVC                         82 non-null     bool   \n",
      " 17  FABRICANTE_INDUSTRIAS DIQUE S.A.     82 non-null     bool   \n",
      " 18  FABRICANTE_MEXICHEM COLOMBIA S.A.S.  82 non-null     bool   \n",
      " 19  FABRICANTE_OTROS                     82 non-null     bool   \n",
      "dtypes: bool(13), float64(7)\n",
      "memory usage: 6.2 KB\n",
      "None\n"
     ]
    }
   ],
   "source": [
    "# Seleccionar columnas\n",
    "\n",
    "X_validacion = df_validacion_codificados.drop('DETERIORADO', axis='columns')\n",
    "Y_validacion = df_validacion_codificados['DETERIORADO']\n",
    "\n",
    "# Agregar columnas faltantes\n",
    "for col in columnas_modelo:\n",
    "    if col not in X_validacion.columns:\n",
    "        print(f'Agregando {col}')\n",
    "        X_validacion[col] = False\n",
    "\n",
    "# Reordenar columnas\n",
    "X_validacion = X_validacion[columnas_modelo]\n",
    "\n",
    "print(X_validacion.info())"
   ]
  },
  {
   "cell_type": "code",
   "execution_count": 17,
   "metadata": {
    "executionInfo": {
     "elapsed": 215,
     "status": "ok",
     "timestamp": 1692844703100,
     "user": {
      "displayName": "Juan de Villeros",
      "userId": "10297202580344304481"
     },
     "user_tz": 300
    },
    "id": "ZTogL9JZL8qN"
   },
   "outputs": [],
   "source": [
    "# Efectuar predicción\n",
    "\n",
    "y_pred = modelo.predict(X_validacion)"
   ]
  },
  {
   "cell_type": "code",
   "execution_count": 18,
   "metadata": {
    "colab": {
     "base_uri": "https://localhost:8080/",
     "height": 363
    },
    "executionInfo": {
     "elapsed": 1402,
     "status": "ok",
     "timestamp": 1692844722275,
     "user": {
      "displayName": "Juan de Villeros",
      "userId": "10297202580344304481"
     },
     "user_tz": 300
    },
    "id": "VctaMm_FM3eV",
    "outputId": "60c9f527-3e98-486c-aaad-b562967a94a8"
   },
   "outputs": [
    {
     "name": "stdout",
     "output_type": "stream",
     "text": [
      "              precision    recall  f1-score   support\n",
      "\n",
      "       False       0.73      0.51      0.60        37\n",
      "        True       0.68      0.84      0.75        45\n",
      "\n",
      "    accuracy                           0.70        82\n",
      "   macro avg       0.70      0.68      0.68        82\n",
      "weighted avg       0.70      0.70      0.69        82\n",
      "\n"
     ]
    },
    {
     "data": {
      "image/png": "[encoded data removed]",
      "text/plain": [
       "<Figure size 800x200 with 1 Axes>"
      ]
     },
     "metadata": {},
     "output_type": "display_data"
    }
   ],
   "source": [
    "# Evaluar prediccion\n",
    "\n",
    "print(classification_report(Y_validacion, y_pred))\n",
    "conf_matrix = confusion_matrix(Y_validacion, y_pred)\n",
    "class_names = [False, True]\n",
    "plt.figure(figsize=(8, 2))\n",
    "plt.subplot(1, 2, 1)\n",
    "sns.heatmap(conf_matrix, annot=True, fmt='d', cmap='Greens', cbar=False, xticklabels=class_names, yticklabels=class_names)\n",
    "plt.xlabel('Predicción deterioro', fontweight='bold')\n",
    "plt.ylabel('Real', fontweight='bold')\n",
    "plt.title('Matriz de confusión - Datos de validación', fontsize=10, fontweight='bold')\n",
    "plt.tight_layout()\n",
    "plt.show()"
   ]
  }
 ],
 "metadata": {
  "colab": {
   "authorship_tag": "ABX9TyPpP8YZAu8/qiWbnIAsm5+N",
   "provenance": []
  },
  "kernelspec": {
   "display_name": ".venv",
   "language": "python",
   "name": "python3"
  },
  "language_info": {
   "codemirror_mode": {
    "name": "ipython",
    "version": 3
   },
   "file_extension": ".py",
   "mimetype": "text/x-python",
   "name": "python",
   "nbconvert_exporter": "python",
   "pygments_lexer": "ipython3",
   "version": "3.10.11"
  }
 },
 "nbformat": 4,
 "nbformat_minor": 4
}
