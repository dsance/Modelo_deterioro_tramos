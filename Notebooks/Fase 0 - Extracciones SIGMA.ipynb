{
 "cells": [
  {
   "cell_type": "code",
   "execution_count": 5,
   "metadata": {},
   "outputs": [],
   "source": [
    "#%pip install pandas\n",
    "#%pip install networkx\n",
    "#%pip install cx_Oracle\n",
    "#%pip install openpyxl"
   ]
  },
  {
   "cell_type": "code",
   "execution_count": 3,
   "metadata": {},
   "outputs": [],
   "source": [
    "import networkx as nx\n",
    "import pandas as pd\n",
    "import cx_Oracle"
   ]
  },
  {
   "cell_type": "code",
   "execution_count": 4,
   "metadata": {},
   "outputs": [],
   "source": [
    "# Definiciones globales\n",
    "\n",
    "%run ../Lib/pandas_options.py\n",
    "%run ../Lib/define_constantes.py"
   ]
  },
  {
   "cell_type": "code",
   "execution_count": 5,
   "metadata": {},
   "outputs": [],
   "source": [
    "#inicializamos cliente oracle\n",
    "cx_Oracle.init_oracle_client(lib_dir=r\"C:/oracle/instantclient_23_5\")"
   ]
  },
  {
   "cell_type": "code",
   "execution_count": 6,
   "metadata": {},
   "outputs": [],
   "source": [
    "#ejecutar conexión SIGMA\n",
    "%run ../Lib/conn_sigma_aguas.py"
   ]
  },
  {
   "cell_type": "markdown",
   "metadata": {},
   "source": [
    "#### Extracción y guardado de los Datos Tramos para el Grafo"
   ]
  },
  {
   "cell_type": "code",
   "execution_count": 5,
   "metadata": {},
   "outputs": [],
   "source": [
    "# Leer el archivo SQL para construcción del grafo\n",
    "with open('../Lib/sql_tramos_grafo.sql', 'r') as file:\n",
    "    query_tramos_grafo = file.read()"
   ]
  },
  {
   "cell_type": "code",
   "execution_count": 6,
   "metadata": {},
   "outputs": [
    {
     "name": "stderr",
     "output_type": "stream",
     "text": [
      "C:\\Users\\dsance\\AppData\\Local\\Temp\\ipykernel_31588\\3887062044.py:2: UserWarning: pandas only supports SQLAlchemy connectable (engine/connection) or database string URI or sqlite3 DBAPI2 connection. Other DBAPI2 objects are not tested. Please consider using SQLAlchemy.\n",
      "  df_tramos_grafo = pd.read_sql(query_tramos_grafo, con=conn_sigma_aguas)\n"
     ]
    }
   ],
   "source": [
    "\n",
    "# Para cargarlo directamente desde la base de datos --> Ejecutar la consulta y crear el DataFrame\n",
    "df_tramos_grafo = pd.read_sql(query_tramos_grafo, con=conn_sigma_aguas)"
   ]
  },
  {
   "cell_type": "code",
   "execution_count": 7,
   "metadata": {},
   "outputs": [
    {
     "data": {
      "text/html": [
       "<div>\n",
       "<style scoped>\n",
       "    .dataframe tbody tr th:only-of-type {\n",
       "        vertical-align: middle;\n",
       "    }\n",
       "\n",
       "    .dataframe tbody tr th {\n",
       "        vertical-align: top;\n",
       "    }\n",
       "\n",
       "    .dataframe thead th {\n",
       "        text-align: right;\n",
       "    }\n",
       "</style>\n",
       "<table border=\"1\" class=\"dataframe\">\n",
       "  <thead>\n",
       "    <tr style=\"text-align: right;\">\n",
       "      <th></th>\n",
       "      <th>G3E_FID</th>\n",
       "      <th>NODO1_ID</th>\n",
       "      <th>NODO2_ID</th>\n",
       "      <th>LONGITUD</th>\n",
       "      <th>ARRANQUE</th>\n",
       "    </tr>\n",
       "  </thead>\n",
       "  <tbody>\n",
       "    <tr>\n",
       "      <th>0</th>\n",
       "      <td>10319871</td>\n",
       "      <td>9566618</td>\n",
       "      <td>9416102</td>\n",
       "      <td>50.27</td>\n",
       "      <td>NO</td>\n",
       "    </tr>\n",
       "    <tr>\n",
       "      <th>1</th>\n",
       "      <td>10205159</td>\n",
       "      <td>9504506</td>\n",
       "      <td>9505087</td>\n",
       "      <td>4.25</td>\n",
       "      <td>NO</td>\n",
       "    </tr>\n",
       "    <tr>\n",
       "      <th>2</th>\n",
       "      <td>310813</td>\n",
       "      <td>6054051</td>\n",
       "      <td>6054073</td>\n",
       "      <td>11.11</td>\n",
       "      <td>NO</td>\n",
       "    </tr>\n",
       "    <tr>\n",
       "      <th>3</th>\n",
       "      <td>311445</td>\n",
       "      <td>6054344</td>\n",
       "      <td>6054345</td>\n",
       "      <td>44.40</td>\n",
       "      <td>NO</td>\n",
       "    </tr>\n",
       "    <tr>\n",
       "      <th>4</th>\n",
       "      <td>311452</td>\n",
       "      <td>6054350</td>\n",
       "      <td>6054351</td>\n",
       "      <td>34.20</td>\n",
       "      <td>SI</td>\n",
       "    </tr>\n",
       "  </tbody>\n",
       "</table>\n",
       "</div>"
      ],
      "text/plain": [
       "    G3E_FID  NODO1_ID  NODO2_ID  LONGITUD ARRANQUE\n",
       "0  10319871   9566618   9416102     50.27       NO\n",
       "1  10205159   9504506   9505087      4.25       NO\n",
       "2    310813   6054051   6054073     11.11       NO\n",
       "3    311445   6054344   6054345     44.40       NO\n",
       "4    311452   6054350   6054351     34.20       SI"
      ]
     },
     "execution_count": 7,
     "metadata": {},
     "output_type": "execute_result"
    }
   ],
   "source": [
    "df_tramos_grafo.head()"
   ]
  },
  {
   "cell_type": "code",
   "execution_count": 15,
   "metadata": {},
   "outputs": [],
   "source": [
    "# Guardar archivo de Tramos Grafo (\"Data Lake\")\n",
    "\n",
    "archivo_tramos_grafo = f'{DIRECTORIO_DATOS_CRUDOS}/DATOS_TRAMOS_GRAFO.csv'\n",
    "\n",
    "df_tramos_grafo.to_csv(archivo_tramos_grafo, index=False)"
   ]
  },
  {
   "cell_type": "markdown",
   "metadata": {},
   "source": [
    "#### Extracción y guardado de los Datos Tramos para el modelo"
   ]
  },
  {
   "cell_type": "code",
   "execution_count": 14,
   "metadata": {},
   "outputs": [],
   "source": [
    "# Leer el archivo SQL para los tramos de tubería\n",
    "with open('../Lib/sql_datos_tramos.sql', 'r') as file:\n",
    "    query_datos_tramos = file.read()"
   ]
  },
  {
   "cell_type": "code",
   "execution_count": 15,
   "metadata": {},
   "outputs": [
    {
     "name": "stderr",
     "output_type": "stream",
     "text": [
      "C:\\Users\\dsance\\AppData\\Local\\Temp\\ipykernel_37604\\2096037417.py:2: UserWarning: pandas only supports SQLAlchemy connectable (engine/connection) or database string URI or sqlite3 DBAPI2 connection. Other DBAPI2 objects are not tested. Please consider using SQLAlchemy.\n",
      "  df_datos_tramos = pd.read_sql(query_datos_tramos, con=conn_sigma_aguas)\n"
     ]
    }
   ],
   "source": [
    "\n",
    "# Para cargarlo directamente desse la base de datos Ejecutar la consulta y crear el DataFrame\n",
    "df_datos_tramos = pd.read_sql(query_datos_tramos, con=conn_sigma_aguas)"
   ]
  },
  {
   "cell_type": "code",
   "execution_count": 16,
   "metadata": {},
   "outputs": [],
   "source": [
    "# Guardar archivo de Tramos Grafo (\"Data Lake\")\n",
    "\n",
    "archivo_datos_tramos = f'{DIRECTORIO_DATOS_CRUDOS}/DATOS_TRAMOS.csv'\n",
    "df_datos_tramos.to_csv(archivo_datos_tramos, index=False)"
   ]
  },
  {
   "cell_type": "markdown",
   "metadata": {},
   "source": [
    "#### Extracción y guardado de los Datos Tramos (SIN FILTROS) para el EDA de CCTV_TRAMOS"
   ]
  },
  {
   "cell_type": "code",
   "execution_count": 1,
   "metadata": {},
   "outputs": [],
   "source": [
    "# Leer el archivo SQL para los tramos de tubería\n",
    "with open('../Lib/sql_datos_tramos_todos.sql', 'r') as file:\n",
    "    query_datos_tramos_todos = file.read()"
   ]
  },
  {
   "cell_type": "code",
   "execution_count": 7,
   "metadata": {},
   "outputs": [
    {
     "name": "stderr",
     "output_type": "stream",
     "text": [
      "C:\\Users\\dsance\\AppData\\Local\\Temp\\ipykernel_26292\\737452688.py:2: UserWarning: pandas only supports SQLAlchemy connectable (engine/connection) or database string URI or sqlite3 DBAPI2 connection. Other DBAPI2 objects are not tested. Please consider using SQLAlchemy.\n",
      "  df_datos_tramos_todos = pd.read_sql(query_datos_tramos_todos, con=conn_sigma_aguas)\n"
     ]
    }
   ],
   "source": [
    "\n",
    "# Para cargarlo directamente desse la base de datos Ejecutar la consulta y crear el DataFrame\n",
    "df_datos_tramos_todos = pd.read_sql(query_datos_tramos_todos, con=conn_sigma_aguas)"
   ]
  },
  {
   "cell_type": "code",
   "execution_count": 8,
   "metadata": {},
   "outputs": [],
   "source": [
    "# Guardar archivo de Tramos sin filtros (\"Data Lake\")\n",
    "\n",
    "archivo_datos_tramos_todos = f'{DIRECTORIO_DATOS_CRUDOS}/DATOS_TRAMOS_TODOS.csv'\n",
    "df_datos_tramos_todos.to_csv(archivo_datos_tramos_todos, index=False)"
   ]
  }
 ],
 "metadata": {
  "kernelspec": {
   "display_name": ".venv",
   "language": "python",
   "name": "python3"
  },
  "language_info": {
   "codemirror_mode": {
    "name": "ipython",
    "version": 3
   },
   "file_extension": ".py",
   "mimetype": "text/x-python",
   "name": "python",
   "nbconvert_exporter": "python",
   "pygments_lexer": "ipython3",
   "version": "3.10.11"
  }
 },
 "nbformat": 4,
 "nbformat_minor": 2
}
