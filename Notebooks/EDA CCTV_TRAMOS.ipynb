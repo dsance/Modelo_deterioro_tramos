{
 "cells": [
  {
   "cell_type": "code",
   "execution_count": 1,
   "metadata": {},
   "outputs": [],
   "source": [
    "import pandas as pd"
   ]
  },
  {
   "cell_type": "code",
   "execution_count": 3,
   "metadata": {},
   "outputs": [],
   "source": [
    "# Definiciones globales\n",
    "\n",
    "%run ../Lib/pandas_options.py\n",
    "%run ../Lib/define_constantes.py"
   ]
  },
  {
   "cell_type": "code",
   "execution_count": 5,
   "metadata": {},
   "outputs": [],
   "source": [
    "archivo_cctv = f'{DIRECTORIO_DATOS_CRUDOS}/DATOSCCTV.csv'\n",
    "\n",
    "# Solo se requiere Ipid, GradoCalificacionPrincipal y Fecha\n",
    "df_cctv = pd.read_csv(archivo_cctv,usecols=['Ipid', 'Ifid','GradoCalificacionPrincipal', 'Fecha'])"
   ]
  },
  {
   "cell_type": "code",
   "execution_count": 7,
   "metadata": {},
   "outputs": [],
   "source": [
    "df_cctv = df_cctv.rename(\n",
    "    columns={'Ipid': 'IPID', 'Ifid': 'G3E_FID', 'GradoCalificacionPrincipal': 'CALIFICACION', 'Fecha': 'FECHA_CALIFICACION'}\n",
    ")"
   ]
  },
  {
   "cell_type": "code",
   "execution_count": 8,
   "metadata": {},
   "outputs": [],
   "source": [
    "archivo_tramos_todos = f'{DIRECTORIO_DATOS_CRUDOS}/DATOS_TRAMOS_TODOS.csv'\n",
    "\n",
    "df_tramos_todos = pd.read_csv(archivo_tramos_todos)"
   ]
  },
  {
   "cell_type": "code",
   "execution_count": 9,
   "metadata": {},
   "outputs": [],
   "source": [
    "# Consolidar tramos calificados\n",
    "\n",
    "df_cctv_tramos = df_cctv.merge(df_tramos_todos, on='G3E_FID',how='left')"
   ]
  },
  {
   "cell_type": "code",
   "execution_count": 10,
   "metadata": {},
   "outputs": [],
   "source": [
    "df_cctv_tramos.to_csv(f'{DIRECTORIO_DATOS_PREPROCESADOS}/CCTV_TRAMOS_TODOS.csv')"
   ]
  }
 ],
 "metadata": {
  "kernelspec": {
   "display_name": ".venv",
   "language": "python",
   "name": "python3"
  },
  "language_info": {
   "codemirror_mode": {
    "name": "ipython",
    "version": 3
   },
   "file_extension": ".py",
   "mimetype": "text/x-python",
   "name": "python",
   "nbconvert_exporter": "python",
   "pygments_lexer": "ipython3",
   "version": "3.10.11"
  }
 },
 "nbformat": 4,
 "nbformat_minor": 2
}
