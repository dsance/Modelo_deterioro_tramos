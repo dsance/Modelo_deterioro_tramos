{
 "cells": [
  {
   "cell_type": "code",
   "execution_count": null,
   "metadata": {
    "id": "9XJCmbwju4wP"
   },
   "outputs": [],
   "source": [
    "#%pip install pandas\n",
    "#%pip install openpyxl\n",
    "%pip install networkx"
   ]
  },
  {
   "cell_type": "code",
   "execution_count": 5,
   "metadata": {},
   "outputs": [],
   "source": [
    "import pandas as pd\n",
    "import networkx as nx"
   ]
  },
  {
   "cell_type": "code",
   "execution_count": 6,
   "metadata": {},
   "outputs": [],
   "source": [
    "# Definiciones globales\n",
    "\n",
    "%run ../Lib/pandas_options.py\n",
    "%run ../Lib/define_constantes.py"
   ]
  },
  {
   "cell_type": "code",
   "execution_count": 8,
   "metadata": {
    "colab": {
     "base_uri": "https://localhost:8080/"
    },
    "id": "q5IMR24zxlX9",
    "outputId": "70979c62-d865-4621-80a5-95e2656470ce"
   },
   "outputs": [],
   "source": [
    "#leer archivo plano del \"DataLake\"\n",
    "\n",
    "archivo_datos_tramos = f'{DIRECTORIO_DATOS_CRUDOS}/DATOS_TRAMOS_GRAFO.csv'\n",
    "tuberias_df = pd.read_csv(archivo_datos_tramos, low_memory=False)"
   ]
  },
  {
   "cell_type": "code",
   "execution_count": 9,
   "metadata": {
    "colab": {
     "base_uri": "https://localhost:8080/"
    },
    "id": "OssrueeCBHtV",
    "outputId": "0a7d6548-e588-4d77-ced0-fbc72a626c73"
   },
   "outputs": [
    {
     "data": {
      "text/plain": [
       "(178097, 6)"
      ]
     },
     "execution_count": 9,
     "metadata": {},
     "output_type": "execute_result"
    }
   ],
   "source": [
    "tuberias_df.shape"
   ]
  },
  {
   "cell_type": "code",
   "execution_count": 10,
   "metadata": {
    "colab": {
     "base_uri": "https://localhost:8080/",
     "height": 206
    },
    "id": "bGEpqP2pxy1e",
    "outputId": "b9f45635-14e1-4ff2-a335-2a097d93c9e0"
   },
   "outputs": [
    {
     "data": {
      "text/html": [
       "<div>\n",
       "<style scoped>\n",
       "    .dataframe tbody tr th:only-of-type {\n",
       "        vertical-align: middle;\n",
       "    }\n",
       "\n",
       "    .dataframe tbody tr th {\n",
       "        vertical-align: top;\n",
       "    }\n",
       "\n",
       "    .dataframe thead th {\n",
       "        text-align: right;\n",
       "    }\n",
       "</style>\n",
       "<table border=\"1\" class=\"dataframe\">\n",
       "  <thead>\n",
       "    <tr style=\"text-align: right;\">\n",
       "      <th></th>\n",
       "      <th>G3E_FID</th>\n",
       "      <th>IPID</th>\n",
       "      <th>NODO1_ID</th>\n",
       "      <th>NODO2_ID</th>\n",
       "      <th>LONGITUD</th>\n",
       "      <th>ARRANQUE</th>\n",
       "    </tr>\n",
       "  </thead>\n",
       "  <tbody>\n",
       "    <tr>\n",
       "      <th>0</th>\n",
       "      <td>10319871</td>\n",
       "      <td>10319871</td>\n",
       "      <td>9566618</td>\n",
       "      <td>9416102</td>\n",
       "      <td>50.27</td>\n",
       "      <td>NO</td>\n",
       "    </tr>\n",
       "    <tr>\n",
       "      <th>1</th>\n",
       "      <td>10205159</td>\n",
       "      <td>10205159</td>\n",
       "      <td>9504506</td>\n",
       "      <td>9505087</td>\n",
       "      <td>4.25</td>\n",
       "      <td>NO</td>\n",
       "    </tr>\n",
       "    <tr>\n",
       "      <th>2</th>\n",
       "      <td>9129899</td>\n",
       "      <td>9129899</td>\n",
       "      <td>9079730</td>\n",
       "      <td>9079731</td>\n",
       "      <td>8.69</td>\n",
       "      <td>NO</td>\n",
       "    </tr>\n",
       "    <tr>\n",
       "      <th>3</th>\n",
       "      <td>9172395</td>\n",
       "      <td>9172395</td>\n",
       "      <td>6059291</td>\n",
       "      <td>6059297</td>\n",
       "      <td>31.82</td>\n",
       "      <td>NO</td>\n",
       "    </tr>\n",
       "    <tr>\n",
       "      <th>4</th>\n",
       "      <td>10205167</td>\n",
       "      <td>10205167</td>\n",
       "      <td>9504524</td>\n",
       "      <td>6049839</td>\n",
       "      <td>11.97</td>\n",
       "      <td>NO</td>\n",
       "    </tr>\n",
       "  </tbody>\n",
       "</table>\n",
       "</div>"
      ],
      "text/plain": [
       "    G3E_FID      IPID  NODO1_ID  NODO2_ID  LONGITUD ARRANQUE\n",
       "0  10319871  10319871   9566618   9416102     50.27       NO\n",
       "1  10205159  10205159   9504506   9505087      4.25       NO\n",
       "2   9129899   9129899   9079730   9079731      8.69       NO\n",
       "3   9172395   9172395   6059291   6059297     31.82       NO\n",
       "4  10205167  10205167   9504524   6049839     11.97       NO"
      ]
     },
     "execution_count": 10,
     "metadata": {},
     "output_type": "execute_result"
    }
   ],
   "source": [
    "tuberias_df.head()"
   ]
  },
  {
   "cell_type": "code",
   "execution_count": 11,
   "metadata": {
    "id": "gFpodLz2vESQ"
   },
   "outputs": [],
   "source": [
    "# Crear un grafo dirigido\n",
    "G = nx.DiGraph()"
   ]
  },
  {
   "cell_type": "code",
   "execution_count": 12,
   "metadata": {
    "id": "v-X5CRvtvHSH"
   },
   "outputs": [],
   "source": [
    "# Agregar todas las tuberías al grafo\n",
    "for _, row in tuberias_df.iterrows():\n",
    "    G.add_edge(\n",
    "        row['NODO1_ID'],\n",
    "        row['NODO2_ID'],\n",
    "        G3E_FID=row['G3E_FID'],\n",
    "        length=row['LONGITUD'],\n",
    "        arranque=row['ARRANQUE']\n",
    "    )\n"
   ]
  },
  {
   "cell_type": "code",
   "execution_count": 13,
   "metadata": {
    "id": "OsiqQBXqf2u7"
   },
   "outputs": [],
   "source": [
    "# Función para calcular la longitud de las redes aguas arriba para un nodo específico\n",
    "def calcular_longitud_aguas_arriba(nodo, grafo):\n",
    "    # Lista para almacenar los nodos visitados y la longitud total\n",
    "    visitados = set()\n",
    "    longitud_total = 0\n",
    "\n",
    "    # Función recursiva para recorrer los nodos aguas arriba\n",
    "    def recorrer_aguas_arriba(nodo_actual):\n",
    "        nonlocal longitud_total\n",
    "        visitados.add(nodo_actual)\n",
    "\n",
    "        # Recorrer todos los predecesores (nodos aguas arriba)\n",
    "        for predecesor in grafo.predecessors(nodo_actual):\n",
    "            if predecesor not in visitados:\n",
    "                # Sumar la longitud de la tubería que conecta el predecesor con el nodo actual\n",
    "                longitud_total += grafo[predecesor][nodo_actual]['length']\n",
    "\n",
    "                # Verificar si la arista tiene arranque = 'SI' y detener el recorrido en esa ruta\n",
    "                if grafo[predecesor][nodo_actual]['arranque'] == 'SI':\n",
    "                    continue  # Detener el recorrido por este camino, pero ya se sumó la longitud\n",
    "\n",
    "                # Recursión para seguir buscando más arriba\n",
    "                recorrer_aguas_arriba(predecesor)\n",
    "\n",
    "    # Iniciar el recorrido desde el nodo especificado\n",
    "    recorrer_aguas_arriba(nodo)\n",
    "\n",
    "    return longitud_total\n"
   ]
  },
  {
   "cell_type": "code",
   "execution_count": 14,
   "metadata": {
    "id": "pJtIDB7Q6zMl"
   },
   "outputs": [],
   "source": [
    "# Crear una nueva columna en el DataFrame para almacenar la longitud aguas arriba de cada tubería\n",
    "tuberias_df['LONGITUD_AGUAS_ARRIBA'] = tuberias_df['NODO1_ID'].apply(lambda nodo: calcular_longitud_aguas_arriba(nodo, G))"
   ]
  },
  {
   "cell_type": "code",
   "execution_count": 15,
   "metadata": {
    "id": "j9wYiNSm3pCk"
   },
   "outputs": [],
   "source": [
    "#Asignar longitud_aguas_arriba = 0 para los arranques.\n",
    "tuberias_df.loc[tuberias_df['ARRANQUE'] == 'SI', 'LONGITUD_AGUAS_ARRIBA'] = 0"
   ]
  },
  {
   "cell_type": "code",
   "execution_count": 16,
   "metadata": {
    "colab": {
     "base_uri": "https://localhost:8080/",
     "height": 206
    },
    "id": "xRe0PZT14qCd",
    "outputId": "bd88935b-59ac-4cf1-b80b-577c7d82a8d5"
   },
   "outputs": [
    {
     "data": {
      "text/html": [
       "<div>\n",
       "<style scoped>\n",
       "    .dataframe tbody tr th:only-of-type {\n",
       "        vertical-align: middle;\n",
       "    }\n",
       "\n",
       "    .dataframe tbody tr th {\n",
       "        vertical-align: top;\n",
       "    }\n",
       "\n",
       "    .dataframe thead th {\n",
       "        text-align: right;\n",
       "    }\n",
       "</style>\n",
       "<table border=\"1\" class=\"dataframe\">\n",
       "  <thead>\n",
       "    <tr style=\"text-align: right;\">\n",
       "      <th></th>\n",
       "      <th>G3E_FID</th>\n",
       "      <th>IPID</th>\n",
       "      <th>NODO1_ID</th>\n",
       "      <th>NODO2_ID</th>\n",
       "      <th>LONGITUD</th>\n",
       "      <th>ARRANQUE</th>\n",
       "      <th>LONGITUD_AGUAS_ARRIBA</th>\n",
       "    </tr>\n",
       "  </thead>\n",
       "  <tbody>\n",
       "    <tr>\n",
       "      <th>0</th>\n",
       "      <td>10319871</td>\n",
       "      <td>10319871</td>\n",
       "      <td>9566618</td>\n",
       "      <td>9416102</td>\n",
       "      <td>50.27</td>\n",
       "      <td>NO</td>\n",
       "      <td>96.32</td>\n",
       "    </tr>\n",
       "    <tr>\n",
       "      <th>1</th>\n",
       "      <td>10205159</td>\n",
       "      <td>10205159</td>\n",
       "      <td>9504506</td>\n",
       "      <td>9505087</td>\n",
       "      <td>4.25</td>\n",
       "      <td>NO</td>\n",
       "      <td>964.06</td>\n",
       "    </tr>\n",
       "    <tr>\n",
       "      <th>2</th>\n",
       "      <td>9129899</td>\n",
       "      <td>9129899</td>\n",
       "      <td>9079730</td>\n",
       "      <td>9079731</td>\n",
       "      <td>8.69</td>\n",
       "      <td>NO</td>\n",
       "      <td>126.44</td>\n",
       "    </tr>\n",
       "    <tr>\n",
       "      <th>3</th>\n",
       "      <td>9172395</td>\n",
       "      <td>9172395</td>\n",
       "      <td>6059291</td>\n",
       "      <td>6059297</td>\n",
       "      <td>31.82</td>\n",
       "      <td>NO</td>\n",
       "      <td>171.98</td>\n",
       "    </tr>\n",
       "    <tr>\n",
       "      <th>4</th>\n",
       "      <td>10205167</td>\n",
       "      <td>10205167</td>\n",
       "      <td>9504524</td>\n",
       "      <td>6049839</td>\n",
       "      <td>11.97</td>\n",
       "      <td>NO</td>\n",
       "      <td>323.02</td>\n",
       "    </tr>\n",
       "  </tbody>\n",
       "</table>\n",
       "</div>"
      ],
      "text/plain": [
       "    G3E_FID      IPID  NODO1_ID  NODO2_ID  LONGITUD ARRANQUE  LONGITUD_AGUAS_ARRIBA\n",
       "0  10319871  10319871   9566618   9416102     50.27       NO                  96.32\n",
       "1  10205159  10205159   9504506   9505087      4.25       NO                 964.06\n",
       "2   9129899   9129899   9079730   9079731      8.69       NO                 126.44\n",
       "3   9172395   9172395   6059291   6059297     31.82       NO                 171.98\n",
       "4  10205167  10205167   9504524   6049839     11.97       NO                 323.02"
      ]
     },
     "execution_count": 16,
     "metadata": {},
     "output_type": "execute_result"
    }
   ],
   "source": [
    "tuberias_df.head()"
   ]
  },
  {
   "cell_type": "code",
   "execution_count": 17,
   "metadata": {},
   "outputs": [],
   "source": [
    "# Ruta donde deseas guardar el archivo\n",
    "archivo_datos_long_aguas_arr = f'{DIRECTORIO_DATOS_CRUDOS}/DATOS_LONGITUD_AGUAS_ARRIBA.csv'"
   ]
  },
  {
   "cell_type": "code",
   "execution_count": 18,
   "metadata": {},
   "outputs": [],
   "source": [
    "\n",
    "# Guardar el DataFrame como un archivo CSV\n",
    "tuberias_df.to_csv(archivo_datos_long_aguas_arr, index=False)"
   ]
  }
 ],
 "metadata": {
  "colab": {
   "provenance": []
  },
  "kernelspec": {
   "display_name": ".venv",
   "language": "python",
   "name": "python3"
  },
  "language_info": {
   "codemirror_mode": {
    "name": "ipython",
    "version": 3
   },
   "file_extension": ".py",
   "mimetype": "text/x-python",
   "name": "python",
   "nbconvert_exporter": "python",
   "pygments_lexer": "ipython3",
   "version": "3.10.11"
  }
 },
 "nbformat": 4,
 "nbformat_minor": 0
}
