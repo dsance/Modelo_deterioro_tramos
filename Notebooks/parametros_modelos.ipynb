{
 "cells": [
  {
   "cell_type": "markdown",
   "id": "8bd4f177-1f0f-4bef-ae9c-b8c282c2d74f",
   "metadata": {},
   "source": [
    "# Obtener parámetros de modelos"
   ]
  },
  {
   "cell_type": "code",
   "execution_count": 1,
   "id": "d3497d1b-2749-4241-9a9b-5c4bd38760b3",
   "metadata": {},
   "outputs": [],
   "source": [
    "from sklearn.neural_network import MLPClassifier\n",
    "from sklearn.ensemble import RandomForestClassifier, GradientBoostingClassifier, HistGradientBoostingClassifier\n",
    "from sklearn.linear_model import LogisticRegression\n",
    "from sklearn.svm import SVC, SVR, LinearSVC\n",
    "from sklearn.neighbors import KNeighborsClassifier\n",
    "from sklearn.tree import DecisionTreeClassifier\n",
    "from sklearn.naive_bayes import GaussianNB\n",
    "import xgboost as xgb"
   ]
  },
  {
   "cell_type": "code",
   "execution_count": 2,
   "id": "d4feb2f7-8471-4aed-a6ef-bdd36b99256d",
   "metadata": {},
   "outputs": [],
   "source": [
    "modelos = [\n",
    "    # SVC(),\n",
    "    # SVR()\n",
    "    # LinearSVC(),\n",
    "    # GaussianNB(),\n",
    "    # KNeighborsClassifier(),\n",
    "    # RandomForestClassifier(),\n",
    "    MLPClassifier(),\n",
    "    # LogisticRegression(),\n",
    "    # GradientBoostingClassifier(),\n",
    "    HistGradientBoostingClassifier(),\n",
    "    xgb.XGBClassifier(),\n",
    "    # DecisionTreeClassifier(),\n",
    "]"
   ]
  },
  {
   "cell_type": "code",
   "execution_count": null,
   "id": "2d05159e-f186-4c3a-b4cd-e02d3ede5957",
   "metadata": {},
   "outputs": [],
   "source": [
    "for modelo in modelos:\n",
    "    parametros = modelo.get_params()\n",
    "    print(f\"\\n{modelo.__class__.__name__}()\")\n",
    "    for parametro, valor in parametros.items():\n",
    "        if parametro in [\"verbose\", \"shuffle\", \"random_state\", \"warm_start\", \"early_stopping\"]:\n",
    "            continue\n",
    "\n",
    "        param_str = f\"'{parametro}'\"\n",
    "        valor_str = f\"{valor}\"\n",
    "        if isinstance(valor, str):\n",
    "            valor_str = f\"'{valor}'\"\n",
    "        elif isinstance(valor, bool):\n",
    "            valor_str = f\"{valor}, {not valor}\"\n",
    "        elif isinstance(valor, (int, float)):\n",
    "            if valor != 0:\n",
    "                valor_str = f\"{valor}, {valor/10}, {valor*10}\"\n",
    "        print(f\"\\t{param_str:<25s}: [{valor_str}, ],\")"
   ]
  },
  {
   "cell_type": "code",
   "execution_count": null,
   "id": "836b749d-d880-443e-bbd6-c3be6526ab02",
   "metadata": {},
   "outputs": [],
   "source": []
  }
 ],
 "metadata": {
  "kernelspec": {
   "display_name": "Python 3 (ipykernel)",
   "language": "python",
   "name": "python3"
  },
  "language_info": {
   "codemirror_mode": {
    "name": "ipython",
    "version": 3
   },
   "file_extension": ".py",
   "mimetype": "text/x-python",
   "name": "python",
   "nbconvert_exporter": "python",
   "pygments_lexer": "ipython3",
   "version": "3.12.5"
  }
 },
 "nbformat": 4,
 "nbformat_minor": 5
}
